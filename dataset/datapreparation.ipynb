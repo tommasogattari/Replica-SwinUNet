{
 "cells": [
  {
   "cell_type": "code",
   "execution_count": null,
   "id": "d9063048",
   "metadata": {},
   "outputs": [],
   "source": [
    "from numpy import asarray\n",
    "import numpy as np\n",
    "import h5py\n",
    "import os\n",
    "import cv2\n",
    "# insert the path of the training folder\n",
    "cwd_images = './training-testing'\n",
    "# insert the path of the labels folder\n",
    "cwd_labels = './labels'\n",
    "# insert the path of the folder for the training images normalized\n",
    "train_folder = './data/Synapse/train_npz/case0'\n",
    "# insert the path of the folder for the testing images normalized\n",
    "test_folder = './data/Synapse/test_vol_h5/case0' \n",
    "\n",
    "\n",
    "for filename in zip(os.listdir(cwd_images),os.listdir(cwd_labels)):\n",
    "    uniqueName = filename[0][19:-4]\n",
    "    img = cv2.imread(cwd_images + '\\\\' + filename[0])\n",
    "    label = cv2.imread(cwd_labels + '\\\\' + filename[1])\n",
    "    \n",
    "    #Convert them to numpy format, \n",
    "    data = asarray(img)\n",
    "    label_data = asarray(label)\n",
    "  \n",
    "    #clip the images within [-125, 275], \n",
    "    data_clipped = np.clip(data, -125, 275)\n",
    "\n",
    "    #normalize each 3D image to [0, 1], and \n",
    "    data_normalised = (data_clipped - (-125)) / (275 - (-125))\n",
    "    \n",
    "    \n",
    "    print(data_normalised.shape)\n",
    "    for i in range(data_normalised.shape[2]):\n",
    "        formattedi = \"{:03d}\".format(i)\n",
    "       \n",
    "        slice000 = data_normalised[:,:,i]\n",
    "        label_slice000 = label_data[:,:,i]\n",
    "        np.savez(train_folder + uniqueName +  '_slice'+formattedi+\".npz\",\n",
    "                  image=slice000,label=label_slice000)\n",
    "    #keep the 3D volume in h5 format for testing cases.\n",
    "    fn = test_folder + uniqueName + '.npy.h5'\n",
    "    f = h5py.File(fn, 'w')\n",
    "    dset = f.create_dataset(\"image\", data=data_normalised)\n",
    "    dset = f.create_dataset(\"label\", data=label_data)\n",
    "    f.close()"
   ]
  }
 ],
 "metadata": {
  "kernelspec": {
   "display_name": "Python 3",
   "language": "python",
   "name": "python3"
  },
  "language_info": {
   "codemirror_mode": {
    "name": "ipython",
    "version": 3
   },
   "file_extension": ".py",
   "mimetype": "text/x-python",
   "name": "python",
   "nbconvert_exporter": "python",
   "pygments_lexer": "ipython3",
   "version": "3.8.8"
  }
 },
 "nbformat": 4,
 "nbformat_minor": 5
}
